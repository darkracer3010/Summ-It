{
 "cells": [
  {
   "cell_type": "code",
   "execution_count": 1,
   "id": "63743c4f",
   "metadata": {},
   "outputs": [],
   "source": [
    "!pip install -q transformers"
   ]
  },
  {
   "cell_type": "code",
   "execution_count": 16,
   "id": "9cfd9ad9",
   "metadata": {},
   "outputs": [
    {
     "name": "stdout",
     "output_type": "stream",
     "text": [
      "Collecting googletrans==3.1.0a0\n",
      "  Downloading googletrans-3.1.0a0.tar.gz (19 kB)\n",
      "  Preparing metadata (setup.py): started\n",
      "  Preparing metadata (setup.py): finished with status 'done'\n",
      "Collecting httpx==0.13.3\n",
      "  Downloading httpx-0.13.3-py3-none-any.whl (55 kB)\n",
      "     ---------------------------------------- 55.1/55.1 kB 2.8 MB/s eta 0:00:00\n",
      "Collecting httpcore==0.9.*\n",
      "  Downloading httpcore-0.9.1-py3-none-any.whl (42 kB)\n",
      "     ---------------------------------------- 42.6/42.6 kB 2.2 MB/s eta 0:00:00\n",
      "Collecting rfc3986<2,>=1.3\n",
      "  Downloading rfc3986-1.5.0-py2.py3-none-any.whl (31 kB)\n",
      "Requirement already satisfied: chardet==3.* in c:\\users\\dcroc\\python\\lib\\site-packages (from httpx==0.13.3->googletrans==3.1.0a0) (3.0.4)\n",
      "Requirement already satisfied: certifi in c:\\users\\dcroc\\python\\lib\\site-packages (from httpx==0.13.3->googletrans==3.1.0a0) (2021.5.30)\n",
      "Requirement already satisfied: sniffio in c:\\users\\dcroc\\python\\lib\\site-packages (from httpx==0.13.3->googletrans==3.1.0a0) (1.2.0)\n",
      "Collecting hstspreload\n",
      "  Downloading hstspreload-2022.9.1-py3-none-any.whl (1.4 MB)\n",
      "     ---------------------------------------- 1.4/1.4 MB 9.0 MB/s eta 0:00:00\n",
      "Requirement already satisfied: idna==2.* in c:\\users\\dcroc\\python\\lib\\site-packages (from httpx==0.13.3->googletrans==3.1.0a0) (2.8)\n",
      "Collecting h2==3.*\n",
      "  Downloading h2-3.2.0-py2.py3-none-any.whl (65 kB)\n",
      "     ---------------------------------------- 65.0/65.0 kB ? eta 0:00:00\n",
      "Collecting h11<0.10,>=0.8\n",
      "  Downloading h11-0.9.0-py2.py3-none-any.whl (53 kB)\n",
      "     ---------------------------------------- 53.6/53.6 kB 2.7 MB/s eta 0:00:00\n",
      "Collecting hyperframe<6,>=5.2.0\n",
      "  Downloading hyperframe-5.2.0-py2.py3-none-any.whl (12 kB)\n",
      "Collecting hpack<4,>=3.0\n",
      "  Downloading hpack-3.0.0-py2.py3-none-any.whl (38 kB)\n",
      "Building wheels for collected packages: googletrans\n",
      "  Building wheel for googletrans (setup.py): started\n",
      "  Building wheel for googletrans (setup.py): finished with status 'done'\n",
      "  Created wheel for googletrans: filename=googletrans-3.1.0a0-py3-none-any.whl size=16368 sha256=47daee2ab31a78b3f06b1d3ad8d5ef19c51099506c757e4379947733970ce958\n",
      "  Stored in directory: c:\\users\\dcroc\\appdata\\local\\pip\\cache\\wheels\\ae\\e1\\6c\\5137bc3f35aa130deea71575e165cc4f4f0680a88f3d90a636\n",
      "Successfully built googletrans\n",
      "Installing collected packages: rfc3986, hyperframe, hpack, h11, hstspreload, h2, httpcore, httpx, googletrans\n",
      "Successfully installed googletrans-3.1.0a0 h11-0.9.0 h2-3.2.0 hpack-3.0.0 hstspreload-2022.9.1 httpcore-0.9.1 httpx-0.13.3 hyperframe-5.2.0 rfc3986-1.5.0\n",
      "Note: you may need to restart the kernel to use updated packages.\n"
     ]
    }
   ],
   "source": [
    "pip install googletrans==3.1.0a0"
   ]
  },
  {
   "cell_type": "code",
   "execution_count": 2,
   "id": "ac1e0656",
   "metadata": {},
   "outputs": [],
   "source": [
    "!pip install -q youtube_transcript_api"
   ]
  },
  {
   "cell_type": "code",
   "execution_count": 3,
   "id": "898291f1",
   "metadata": {},
   "outputs": [],
   "source": [
    "from transformers import pipeline\n",
    "from youtube_transcript_api import YouTubeTranscriptApi"
   ]
  },
  {
   "cell_type": "code",
   "execution_count": 4,
   "id": "2b5bda79",
   "metadata": {},
   "outputs": [],
   "source": [
    "youtube_video = \"https://www.youtube.com/watch?v=WnP6jDvupiY&t=5s\""
   ]
  },
  {
   "cell_type": "code",
   "execution_count": 5,
   "id": "2841bf02",
   "metadata": {},
   "outputs": [],
   "source": [
    "video_id = youtube_video.split(\"=\")[1]"
   ]
  },
  {
   "cell_type": "code",
   "execution_count": 7,
   "id": "f5f0f7a4",
   "metadata": {},
   "outputs": [
    {
     "data": {
      "text/html": [
       "\n",
       "        <iframe\n",
       "            width=\"400\"\n",
       "            height=\"300\"\n",
       "            src=\"https://www.youtube.com/embed/WnP6jDvupiY&t\"\n",
       "            frameborder=\"0\"\n",
       "            allowfullscreen\n",
       "            \n",
       "        ></iframe>\n",
       "        "
      ],
      "text/plain": [
       "<IPython.lib.display.YouTubeVideo at 0x20ee9d0ad90>"
      ]
     },
     "execution_count": 7,
     "metadata": {},
     "output_type": "execute_result"
    }
   ],
   "source": [
    "from IPython.display import YouTubeVideo\n",
    "YouTubeVideo(video_id)"
   ]
  },
  {
   "cell_type": "code",
   "execution_count": 8,
   "id": "6ae8679e",
   "metadata": {},
   "outputs": [],
   "source": [
    "YouTubeTranscriptApi.get_transcript(video_id)\n",
    "transcript = YouTubeTranscriptApi.get_transcript(video_id)"
   ]
  },
  {
   "cell_type": "code",
   "execution_count": 9,
   "id": "968744c1",
   "metadata": {},
   "outputs": [
    {
     "name": "stdout",
     "output_type": "stream",
     "text": [
      "1886\n"
     ]
    }
   ],
   "source": [
    "result = \"\"\n",
    "for i in transcript:\n",
    "    result += ' ' + i['text']\n",
    "print(len(result))"
   ]
  },
  {
   "cell_type": "code",
   "execution_count": 10,
   "id": "58e74a54",
   "metadata": {},
   "outputs": [
    {
     "data": {
      "text/plain": [
       "\" what is data brought to you by the university of houston libraries we hear the word data all the time it is collected analyzed shared hacked bought and sold but what exactly is data data are collected observations or measurements represented as text numbers or multimedia when we think of data we may immediately think of numbers but data can also be field notes videos audio recordings photographs documents and transcripts what you consider to be data will be different depending on your area of research for example if you're researching the impact of wildfires on national parks your data may be satellite maps and images but if you're researching graduation rates of college students with faculty mentors your data might be the number of graduates each year and the amount of time taken to earn their degree data will be different based on what you study data can be broadly categorized as qualitative or quantitative quantitative data can be expressed as a number and counted or compared on a numerical scale this would include such things as rating scales from surveys temperatures observed or measurements gathered it could also include things like counts of words used in a book or the number of attendees at an event qualitative data include things like textual descriptions of events maps pictures or transcripts there are other ways to categorize data but most fall in one of these two broad categories data are not the same as statistics statistics are the result of data analysis and interpretation so be sure not to use the two words interchangeably analyzing and interpreting data can help you identify patterns and trends offer solutions to complex problems or better understand scientific phenomena data are powerful aids in our attempt to understand the world if you want to learn more about finding accessing and using data visit the uh library's finding data guide\""
      ]
     },
     "execution_count": 10,
     "metadata": {},
     "output_type": "execute_result"
    }
   ],
   "source": [
    "result"
   ]
  },
  {
   "cell_type": "code",
   "execution_count": 11,
   "id": "7b2466a7",
   "metadata": {},
   "outputs": [
    {
     "name": "stderr",
     "output_type": "stream",
     "text": [
      "No model was supplied, defaulted to sshleifer/distilbart-cnn-12-6 and revision a4f8f3e (https://huggingface.co/sshleifer/distilbart-cnn-12-6).\n",
      "Using a pipeline without specifying a model name and revision in production is not recommended.\n"
     ]
    },
    {
     "data": {
      "application/vnd.jupyter.widget-view+json": {
       "model_id": "82f7e56371b94c13adaef82300a68a82",
       "version_major": 2,
       "version_minor": 0
      },
      "text/plain": [
       "Downloading config.json:   0%|          | 0.00/1.76k [00:00<?, ?B/s]"
      ]
     },
     "metadata": {},
     "output_type": "display_data"
    },
    {
     "data": {
      "application/vnd.jupyter.widget-view+json": {
       "model_id": "ec098503587e4d5a9cfeb457a1e0095a",
       "version_major": 2,
       "version_minor": 0
      },
      "text/plain": [
       "Downloading pytorch_model.bin:   0%|          | 0.00/1.14G [00:00<?, ?B/s]"
      ]
     },
     "metadata": {},
     "output_type": "display_data"
    },
    {
     "data": {
      "application/vnd.jupyter.widget-view+json": {
       "model_id": "e8b2afb4040a47b3967abe2b80454094",
       "version_major": 2,
       "version_minor": 0
      },
      "text/plain": [
       "Downloading tokenizer_config.json:   0%|          | 0.00/26.0 [00:00<?, ?B/s]"
      ]
     },
     "metadata": {},
     "output_type": "display_data"
    },
    {
     "data": {
      "application/vnd.jupyter.widget-view+json": {
       "model_id": "aa517ec2ca1045dd9fc563885f03b682",
       "version_major": 2,
       "version_minor": 0
      },
      "text/plain": [
       "Downloading vocab.json:   0%|          | 0.00/878k [00:00<?, ?B/s]"
      ]
     },
     "metadata": {},
     "output_type": "display_data"
    },
    {
     "data": {
      "application/vnd.jupyter.widget-view+json": {
       "model_id": "f0a0de1d3f854dec9ab18f27427530d2",
       "version_major": 2,
       "version_minor": 0
      },
      "text/plain": [
       "Downloading merges.txt:   0%|          | 0.00/446k [00:00<?, ?B/s]"
      ]
     },
     "metadata": {},
     "output_type": "display_data"
    }
   ],
   "source": [
    "summarizer = pipeline('summarization')"
   ]
  },
  {
   "cell_type": "code",
   "execution_count": 12,
   "id": "960c7fcd",
   "metadata": {},
   "outputs": [
    {
     "name": "stdout",
     "output_type": "stream",
     "text": [
      "input text \n",
      " what is data brought to you by the university of houston libraries we hear the word data all the time it is collected analyzed shared hacked bought and sold but what exactly is data data are collected observations or measurements represented as text numbers or multimedia when we think of data we may immediately think of numbers but data can also be field notes videos audio recordings photographs documents and transcripts what you consider to be data will be different depending on your area of research for example if you're researching the impact of wildfires on national parks your data may be satellite maps and images but if you're researching graduation rates of college students with faculty mentors your data might be the number of graduates each year and the amount of time taken to earn their degree data will be different based on what you study data can be broadly categorized as qualitative or quantitative quantitative data can be expressed as a number and counted or compared on a \n",
      "Summarized text\n",
      " Data is collected observations or measurements represented as text numbers or multimedia when we think of data we may immediately think of numbers but data can also be field notes videos audio recordings photographs documents and transcripts . Data can be broadly categorized as qualitative or quantitative quantitative quantitative data can be expressed as a number and counted or compared on a  comparison .\n",
      "input text \n",
      "numerical scale this would include such things as rating scales from surveys temperatures observed or measurements gathered it could also include things like counts of words used in a book or the number of attendees at an event qualitative data include things like textual descriptions of events maps pictures or transcripts there are other ways to categorize data but most fall in one of these two broad categories data are not the same as statistics statistics are the result of data analysis and interpretation so be sure not to use the two words interchangeably analyzing and interpreting data can help you identify patterns and trends offer solutions to complex problems or better understand scientific phenomena data are powerful aids in our attempt to understand the world if you want to learn more about finding accessing and using data visit the uh library's finding data guide\n",
      "Summarized text\n",
      " Data are not the same as statistics statistics are the result of data analysis and interpretation so be sure not to use the two words interchangeably analyzing and interpreting data can help you identify patterns and trends . Data are powerful aids in our attempt to understand the world and offer solutions to complex problems or better understand scientific phenomena .\n"
     ]
    }
   ],
   "source": [
    "num_iters = int(len(result)/1000)\n",
    "summarized_text = []\n",
    "for i in range(0, num_iters + 1):\n",
    "  start = 0\n",
    "  start = i * 1000\n",
    "  end = (i + 1) * 1000\n",
    "  print(\"input text \\n\" + result[start:end])\n",
    "  out = summarizer(result[start:end])\n",
    "  out = out[0]\n",
    "  out = out['summary_text']\n",
    "  print(\"Summarized text\\n\"+out)\n",
    "  summarized_text.append(out)\n"
   ]
  },
  {
   "cell_type": "code",
   "execution_count": 13,
   "id": "b8321176",
   "metadata": {},
   "outputs": [
    {
     "data": {
      "text/plain": [
       "790"
      ]
     },
     "execution_count": 13,
     "metadata": {},
     "output_type": "execute_result"
    }
   ],
   "source": [
    "len(str(summarized_text))"
   ]
  },
  {
   "cell_type": "code",
   "execution_count": 14,
   "id": "ca6b5440",
   "metadata": {},
   "outputs": [
    {
     "name": "stdout",
     "output_type": "stream",
     "text": [
      "[' Data is collected observations or measurements represented as text numbers or multimedia when we think of data we may immediately think of numbers but data can also be field notes videos audio recordings photographs documents and transcripts . Data can be broadly categorized as qualitative or quantitative quantitative quantitative data can be expressed as a number and counted or compared on a  comparison .', ' Data are not the same as statistics statistics are the result of data analysis and interpretation so be sure not to use the two words interchangeably analyzing and interpreting data can help you identify patterns and trends . Data are powerful aids in our attempt to understand the world and offer solutions to complex problems or better understand scientific phenomena .']\n"
     ]
    }
   ],
   "source": [
    "out = str(summarized_text)\n",
    "print(out)"
   ]
  },
  {
   "cell_type": "code",
   "execution_count": 17,
   "id": "f4f2e88a",
   "metadata": {},
   "outputs": [],
   "source": [
    "from googletrans import Translator"
   ]
  },
  {
   "cell_type": "code",
   "execution_count": 18,
   "id": "f3c29c36",
   "metadata": {},
   "outputs": [
    {
     "name": "stdout",
     "output_type": "stream",
     "text": [
      "Translated(src=en, dest=hi, text=[' डेटा एकत्र किए गए अवलोकन या माप को टेक्स्ट नंबर या मल्टीमीडिया के रूप में दर्शाया जाता है जब हम डेटा के बारे में सोचते हैं तो हम तुरंत संख्याओं के बारे में सोच सकते हैं लेकिन डेटा फ़ील्ड नोट्स वीडियो ऑडियो रिकॉर्डिंग, फोटो दस्तावेज़ और ट्रांसक्रिप्ट भी हो सकता है। डेटा को मोटे तौर पर गुणात्मक या मात्रात्मक मात्रात्मक के रूप में वर्गीकृत किया जा सकता है मात्रात्मक डेटा को एक संख्या के रूप में व्यक्त किया जा सकता है और तुलना पर गिना या तुलना की जा सकती है।', 'डेटा समान नहीं हैं क्योंकि आंकड़े आंकड़े डेटा विश्लेषण और व्याख्या का परिणाम हैं, इसलिए सुनिश्चित करें कि डेटा का विश्लेषण और व्याख्या करने के लिए दो शब्दों का परस्पर उपयोग करें, इससे आपको पैटर्न और रुझानों की पहचान करने में मदद मिल सकती है। डेटा दुनिया को समझने और जटिल समस्याओं के समाधान की पेशकश करने या वैज्ञानिक घटनाओं को बेहतर ढंग से समझने के हमारे प्रयास में शक्तिशाली सहायक हैं।'], pronunciation=[[]], extra_data=\"{'translat...\")\n"
     ]
    }
   ],
   "source": [
    "translater = Translator()\n",
    "output = translater.translate(out,dest=\"hi\")\n",
    "print(output)"
   ]
  },
  {
   "cell_type": "code",
   "execution_count": null,
   "id": "3267eac4",
   "metadata": {},
   "outputs": [],
   "source": []
  }
 ],
 "metadata": {
  "kernelspec": {
   "display_name": "Python 3 (ipykernel)",
   "language": "python",
   "name": "python3"
  },
  "language_info": {
   "codemirror_mode": {
    "name": "ipython",
    "version": 3
   },
   "file_extension": ".py",
   "mimetype": "text/x-python",
   "name": "python",
   "nbconvert_exporter": "python",
   "pygments_lexer": "ipython3",
   "version": "3.9.6"
  }
 },
 "nbformat": 4,
 "nbformat_minor": 5
}
